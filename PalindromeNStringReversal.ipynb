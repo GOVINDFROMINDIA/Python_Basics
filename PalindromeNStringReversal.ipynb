{
  "nbformat": 4,
  "nbformat_minor": 0,
  "metadata": {
    "colab": {
      "provenance": [],
      "collapsed_sections": [],
      "authorship_tag": "ABX9TyP4CeLuOwuQdzKCsIJxcBFG",
      "include_colab_link": true
    },
    "kernelspec": {
      "name": "python3",
      "display_name": "Python 3"
    },
    "language_info": {
      "name": "python"
    }
  },
  "cells": [
    {
      "cell_type": "markdown",
      "metadata": {
        "id": "view-in-github",
        "colab_type": "text"
      },
      "source": [
        "<a href=\"https://colab.research.google.com/github/GOVINDFROMINDIA/Python_Basics/blob/main/PalindromeNStringReversal.ipynb\" target=\"_parent\"><img src=\"https://colab.research.google.com/assets/colab-badge.svg\" alt=\"Open In Colab\"/></a>"
      ]
    },
    {
      "cell_type": "code",
      "execution_count": 5,
      "metadata": {
        "id": "96n16XU_s8V_",
        "colab": {
          "base_uri": "https://localhost:8080/"
        },
        "outputId": "bfc14516-01b1-42d7-8c73-3263983b00c4"
      },
      "outputs": [
        {
          "output_type": "stream",
          "name": "stdout",
          "text": [
            "ENTER THE WORD:   malayalam\n",
            "malayalam is a palindrome\n"
          ]
        }
      ],
      "source": [
        "x= str(input(\"ENTER THE WORD:   \"))\n",
        "\n",
        "if x == x[::-1] :\n",
        "  print(x, \"is a palindrome\")\n",
        "else:\n",
        "  print(x[::-1], \" is the reverse\")"
      ]
    },
    {
      "cell_type": "code",
      "source": [],
      "metadata": {
        "id": "WzZOYrhUj1xF"
      },
      "execution_count": null,
      "outputs": []
    }
  ]
}